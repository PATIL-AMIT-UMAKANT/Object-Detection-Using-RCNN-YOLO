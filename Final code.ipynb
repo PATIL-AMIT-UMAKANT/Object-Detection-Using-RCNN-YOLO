{
 "cells": [
  {
   "cell_type": "code",
   "execution_count": 1,
   "id": "d3adcc3b",
   "metadata": {},
   "outputs": [],
   "source": [
    "#!pip install selective-search"
   ]
  },
  {
   "cell_type": "code",
   "execution_count": 2,
   "id": "08d1cb75",
   "metadata": {},
   "outputs": [],
   "source": [
    "#!pip install Pillow"
   ]
  },
  {
   "cell_type": "code",
   "execution_count": 3,
   "id": "80860bd3",
   "metadata": {},
   "outputs": [],
   "source": [
    "#!pip install opencv-python"
   ]
  },
  {
   "cell_type": "code",
   "execution_count": null,
   "id": "560a218c",
   "metadata": {},
   "outputs": [],
   "source": [
    "import os\n",
    "import selective_search\n",
    "import matplotlib.pyplot as plt\n",
    "import matplotlib.patches as mpatches\n",
    "import cv2\n",
    "import tensorflow as tf\n",
    "from tensorflow import keras\n",
    "from tensorflow.keras import layers, Sequential \n",
    "import matplotlib.pyplot as plt\n",
    "from PIL import Image\n",
    "import numpy as np "
   ]
  },
  {
   "cell_type": "code",
   "execution_count": null,
   "id": "8eddf122",
   "metadata": {},
   "outputs": [],
   "source": [
    "img=cv2.imread('000023.jpg')\n",
    "img"
   ]
  },
  {
   "cell_type": "code",
   "execution_count": null,
   "id": "9c5918b2",
   "metadata": {},
   "outputs": [],
   "source": [
    "boxes=selective_search.selective_search(img,mode='fast')"
   ]
  },
  {
   "cell_type": "code",
   "execution_count": null,
   "id": "18fb14a6",
   "metadata": {},
   "outputs": [],
   "source": [
    "\n",
    "# Filter box proposals\n",
    "# Feel free to change parameters\n",
    "boxes_filter = selective_search.box_filter(boxes, min_size=20, topN=250)\n",
    "\n",
    "# draw rectangles on the original image\n",
    "fig, ax = plt.subplots(figsize=(6, 6))\n",
    "ax.imshow(img)\n",
    "for x1, y1, x2, y2 in boxes_filter:\n",
    "    bbox = mpatches.Rectangle(\n",
    "        (x1, y1), (x2-x1), (y2-y1), fill=False, edgecolor='green', linewidth=1)\n",
    "    ax.add_patch(bbox)\n",
    "\n",
    "\n",
    "plt.show()"
   ]
  },
  {
   "cell_type": "code",
   "execution_count": null,
   "id": "e3e13f05",
   "metadata": {},
   "outputs": [],
   "source": [
    "import matplotlib.pyplot as plt\n",
    "import matplotlib.patches as patches\n",
    "\n",
    "# draw emtpy figure\n",
    "fig = plt.figure()\n",
    "\n",
    "# define axis\n",
    "ax = fig.add_axes([0, 0, 1, 1])\n",
    "\n",
    "# plot image\n",
    "plt.imshow(img)\n",
    "      \n",
    "# create rectangular patch\n",
    "#dog\n",
    "rect_0 = patches.Rectangle((88, 89), 177, 323, edgecolor='red', facecolor='none', linewidth=2)\n",
    "rect_1 = patches.Rectangle((229, 105), 219, 281, edgecolor='green', facecolor='none', linewidth=2)\n",
    "rect_2 = patches.Rectangle((8, 237), 229, 271, edgecolor='blue', facecolor='none', linewidth=2)\n",
    "\n",
    "#image_id,file_name,height,width,xmin,xmax,ymin,ymax,category_id,class\n",
    "# 23,000023.jpg,500,500,8,237,229,271,2,bicycle\n",
    "# 23,000023.jpg,500,500,229,105,219,281,2,bicycle\n",
    "# 23,000023.jpg,500,500,1,89,177,323,2,bicycle\n",
    "\n",
    "# 23,000023.jpg,500,500,1,116,0,369,15,person\n",
    "# 23,000023.jpg,500,500,2,241,1,461,15,person\n",
    "# 23,000023.jpg,500,500,224,110,0,486,15,person\n",
    "#person \n",
    "# rect_3 = patches.Rectangle((224, 110), 0, 486, edgecolor='red', facecolor='none', linewidth=2)\n",
    "# rect_4 = patches.Rectangle((2, 241), 1, 461, edgecolor='green', facecolor='none', linewidth=2)\n",
    "# rect_5 = patches.Rectangle((1, 116),0,369, edgecolor='blue', facecolor='none', linewidth=2)\n",
    "    \n",
    "# # add patch\n",
    "# #dog\n",
    "# ax.add_patch(rect_0)\n",
    "# ax.text(500, 500, 'Box0:90%', color='red')\n",
    "# ax.add_patch(rect_1)\n",
    "# ax.text(500, 500, 'Box1:98%', color='green')\n",
    "# ax.add_patch(rect_2)\n",
    "# ax.text(500, 500, 'Box2:82%', color='blue')\n",
    "\n",
    "# #person\n",
    "# ax.add_patch(rect_3)\n",
    "# ax.text(500, 500, 'Box3:87%', color='red')\n",
    "# ax.add_patch(rect_4)\n",
    "# ax.text(500, 500, 'Box4:98%', color='green')\n",
    "# ax.add_patch(rect_5)\n",
    "# ax.text(500, 500, 'Box5:82%', color='blue')\n",
    "\n",
    "# # show figure\n",
    "# plt.show()"
   ]
  },
  {
   "cell_type": "code",
   "execution_count": null,
   "id": "39dc7a89",
   "metadata": {},
   "outputs": [],
   "source": []
  }
 ],
 "metadata": {
  "kernelspec": {
   "display_name": "Python 3",
   "language": "python",
   "name": "python3"
  },
  "language_info": {
   "codemirror_mode": {
    "name": "ipython",
    "version": 3
   },
   "file_extension": ".py",
   "mimetype": "text/x-python",
   "name": "python",
   "nbconvert_exporter": "python",
   "pygments_lexer": "ipython3",
   "version": "3.8.8"
  }
 },
 "nbformat": 4,
 "nbformat_minor": 5
}
