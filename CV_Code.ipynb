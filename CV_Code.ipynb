{
 "cells": [
  {
   "cell_type": "code",
   "execution_count": null,
   "id": "a1173495",
   "metadata": {},
   "outputs": [],
   "source": [
    "'''\n",
    "PRE-REQUISITES:\n",
    "Install the packages:\n",
    "I am using opencv 3.4.2, intall it by using the below command. Use the same opencv version\n",
    "pip install opencv-python==3.4.2\n",
    "We also need numpy\n",
    "pip install numpy\n",
    "Install argparse\n",
    "pip install argparse\n",
    "Download the files from the below URLs and have it inside the folder yolo-coco:\n",
    "https://github.com/pjreddie/darknet/blob/master/data/coco.names\n",
    "https://github.com/pjreddie/darknet/blob/master/cfg/yolov3.cfg\n",
    "https://pjreddie.com/media/files/yolov3.weights\n",
    "'''\n",
    "\n",
    "'''\n",
    "You can run the file by using \n",
    "python yolo.py --image images/ipl.jpeg\n",
    "'''\n",
    "\n"
   ]
  },
  {
   "cell_type": "code",
   "execution_count": null,
   "id": "9e361311",
   "metadata": {},
   "outputs": [],
   "source": [
    "# importing the necessary packages\n",
    "import numpy as np\n",
    "import argparse\n",
    "import time\n",
    "import cv2\n",
    "import os\n"
   ]
  },
  {
   "cell_type": "code",
   "execution_count": null,
   "id": "03234825",
   "metadata": {},
   "outputs": [],
   "source": [
    "# construct the argument parse and parse the arguments\n",
    "ap = argparse.ArgumentParser()\n",
    "ap.add_argument(\"-i\", \"--image\", required=True,\n",
    "\thelp=\"path to input image\")\n",
    "ap.add_argument(\"-c\", \"--confidence\", type=float, default=0.5,\n",
    "\thelp=\"minimum probability to filter weak detections, IoU threshold\")\n",
    "ap.add_argument(\"-t\", \"--threshold\", type=float, default=0.3,\n",
    "\thelp=\"threshold when applying non-maxima suppression\")\n",
    "args = vars(ap.parse_args())\n",
    "\n"
   ]
  },
  {
   "cell_type": "code",
   "execution_count": null,
   "id": "5b60345e",
   "metadata": {},
   "outputs": [],
   "source": [
    "#load the COCO class labels our YOLO model was trained on\n",
    "labelsPath = 'yolo-coco\\\\coco.names'\n",
    "LABELS = open(labelsPath).read().strip().split(\"\\n\")\n",
    "\n",
    "# initialize a list of colors to represent each possible class label\n",
    "COLORS = np.random.randint(0, 255, size=(len(LABELS), 3),\n",
    "\tdtype=\"uint8\")\n",
    "\n",
    "# paths to the YOLO weights and model configuration\n",
    "weightsPath = 'yolo-coco\\\\yolov3.weights'\n",
    "configPath = 'yolo-coco\\\\yolov3.cfg'\n",
    "\n",
    "# load our YOLO object detector trained on COCO dataset (80 classes)\n",
    "net = cv2.dnn.readNetFromDarknet(configPath, weightsPath)\n"
   ]
  },
  {
   "cell_type": "code",
   "execution_count": null,
   "id": "cf962144",
   "metadata": {},
   "outputs": [],
   "source": [
    "# load our input image and grab its spatial dimensions\n",
    "image = cv2.imread(args[\"image\"])\n",
    "(H, W) = image.shape[:2]\n",
    "\n",
    "# determine only the *output* layer names that we need from YOLO\n",
    "ln = net.getLayerNames()\n",
    "ln = [ln[i[0] - 1] for i in net.getUnconnectedOutLayers()]\n",
    "\n",
    "# construct a blob from the input image and then perform a forward\n",
    "# pass of the YOLO object detector, giving us our bounding boxes and\n",
    "# associated probabilities\n",
    "blob = cv2.dnn.blobFromImage(image, 1 / 255.0, (416, 416),\n",
    "\tswapRB=True, crop=False)\n",
    "net.setInput(blob)\n",
    "layerOutputs = net.forward(ln)\n"
   ]
  },
  {
   "cell_type": "code",
   "execution_count": null,
   "id": "990927a6",
   "metadata": {},
   "outputs": [],
   "source": [
    "# initialize our lists of detected bounding boxes, confidences, and\n",
    "# class IDs, respectively\n",
    "boxes = []\n",
    "confidences = []\n",
    "classIDs = []\n",
    "\n",
    "# loop over each of the layer outputs\n",
    "for output in layerOutputs:\n",
    "\t# loop over each of the detections\n",
    "\tfor detection in output:\n",
    "\t\t# extract the class ID and confidence (i.e., probability) of\n",
    "\t\t# the current object detection\n",
    "\t\tscores = detection[5:]\n",
    "\t\tclassID = np.argmax(scores)\n",
    "\t\tconfidence = scores[classID]\n",
    "\n",
    "\t\t# filter out weak predictions by ensuring the detected\n",
    "\t\t# probability is greater than the minimum probability\n",
    "\t\tif confidence > args[\"confidence\"]:\n",
    "\t\t\t# scale the bounding box coordinates back relative to the\n",
    "\t\t\t# size of the image, keeping in mind that YOLO actually\n",
    "\t\t\t# returns the center (x, y)-coordinates of the bounding\n",
    "\t\t\t# box followed by the boxes' width and height\n",
    "\t\t\tbox = detection[0:4] * np.array([W, H, W, H])\n",
    "\t\t\t(centerX, centerY, width, height) = box.astype(\"int\")\n",
    "\n",
    "\t\t\t# use the center (x, y)-coordinates to derive the top and\n",
    "\t\t\t# and left corner of the bounding box\n",
    "\t\t\tx = int(centerX - (width / 2))\n",
    "\t\t\ty = int(centerY - (height / 2))\n",
    "\n",
    "\t\t\t# update our list of bounding box coordinates, confidences,\n",
    "\t\t\t# and class IDs\n",
    "\t\t\tboxes.append([x, y, int(width), int(height)])\n",
    "\t\t\tconfidences.append(float(confidence))\n",
    "\t\t\tclassIDs.append(classID)\n"
   ]
  },
  {
   "cell_type": "code",
   "execution_count": null,
   "id": "4c89e839",
   "metadata": {},
   "outputs": [],
   "source": [
    "# apply non-maxima suppression to suppress weak, overlapping bounding boxes\n",
    "idxs = cv2.dnn.NMSBoxes(boxes, confidences, args[\"confidence\"],\n",
    "\targs[\"threshold\"])\n",
    "\n",
    "# ensure at least one detection exists\n",
    "if len(idxs) > 0:\n",
    "\t# loop over the indexes we are keeping\n",
    "\tfor i in idxs.flatten():\n",
    "\t\t# extract the bounding box coordinates\n",
    "\t\t(x, y) = (boxes[i][0], boxes[i][1])\n",
    "\t\t(w, h) = (boxes[i][2], boxes[i][3])\n",
    "\n",
    "\t\t# draw a bounding box rectangle and label on the image\n",
    "\t\tcolor = [int(c) for c in COLORS[classIDs[i]]]\n",
    "\t\tcv2.rectangle(image, (x, y), (x + w, y + h), color, 2)\n",
    "\t\ttext = \"{}: {:.4f}\".format(LABELS[classIDs[i]], confidences[i])\n",
    "\t\tcv2.putText(image, text, (x, y - 5), cv2.FONT_HERSHEY_SIMPLEX,\n",
    "\t\t\t0.5, color, 2)\n",
    "\n",
    "# show the output image\n",
    "cv2.imshow(\"Image\", image)\n",
    "cv2.waitKey(0)"
   ]
  },
  {
   "cell_type": "code",
   "execution_count": null,
   "id": "d65c730b",
   "metadata": {},
   "outputs": [],
   "source": []
  },
  {
   "cell_type": "code",
   "execution_count": null,
   "id": "171592a2",
   "metadata": {},
   "outputs": [],
   "source": []
  }
 ],
 "metadata": {
  "kernelspec": {
   "display_name": "Python 3",
   "language": "python",
   "name": "python3"
  },
  "language_info": {
   "codemirror_mode": {
    "name": "ipython",
    "version": 3
   },
   "file_extension": ".py",
   "mimetype": "text/x-python",
   "name": "python",
   "nbconvert_exporter": "python",
   "pygments_lexer": "ipython3",
   "version": "3.8.8"
  }
 },
 "nbformat": 4,
 "nbformat_minor": 5
}
